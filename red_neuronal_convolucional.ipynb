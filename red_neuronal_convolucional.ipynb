{
 "cells": [
  {
   "cell_type": "markdown",
   "id": "33bfee16-9e73-460c-addf-fe08e16b8a78",
   "metadata": {},
   "source": [
    "# Redes Neuronales Convolucionales"
   ]
  },
  {
   "cell_type": "code",
   "execution_count": 1,
   "id": "f0f2c8dc-106a-4450-bad3-6ed9fbf2820e",
   "metadata": {},
   "outputs": [],
   "source": [
    "from keras.models import Sequential\n",
    "from tensorflow.keras import Input\n",
    "from keras.layers import Conv2D, MaxPooling2D, Flatten, Dense\n",
    "import matplotlib.pyplot as plt\n",
    "import numpy as np"
   ]
  },
  {
   "cell_type": "markdown",
   "id": "890ebd5f-f77c-43e1-a9c3-102b12bf6ec8",
   "metadata": {},
   "source": [
    "## Crear la red"
   ]
  },
  {
   "cell_type": "code",
   "execution_count": 57,
   "id": "597bd78f-5aa5-4c75-a131-36076fc66ce3",
   "metadata": {},
   "outputs": [],
   "source": [
    "clasificador = Sequential()"
   ]
  },
  {
   "cell_type": "code",
   "execution_count": 58,
   "id": "a73b28e4-80dd-4309-8d3d-bc252d4e234d",
   "metadata": {},
   "outputs": [],
   "source": [
    "clasificador.add(Input(shape = (64,64,3)))"
   ]
  },
  {
   "cell_type": "code",
   "execution_count": 68,
   "id": "a4081b18-f235-47df-aa67-ae2b6e422106",
   "metadata": {},
   "outputs": [
    {
     "data": {
      "text/html": [
       "<pre style=\"white-space:pre;overflow-x:auto;line-height:normal;font-family:Menlo,'DejaVu Sans Mono',consolas,'Courier New',monospace\"><span style=\"font-weight: bold\">Model: \"sequential_4\"</span>\n",
       "</pre>\n"
      ],
      "text/plain": [
       "\u001b[1mModel: \"sequential_4\"\u001b[0m\n"
      ]
     },
     "metadata": {},
     "output_type": "display_data"
    },
    {
     "data": {
      "text/html": [
       "<pre style=\"white-space:pre;overflow-x:auto;line-height:normal;font-family:Menlo,'DejaVu Sans Mono',consolas,'Courier New',monospace\">┏━━━━━━━━━━━━━━━━━━━━━━━━━━━━━━━━━┳━━━━━━━━━━━━━━━━━━━━━━━━┳━━━━━━━━━━━━━━━┓\n",
       "┃<span style=\"font-weight: bold\"> Layer (type)                    </span>┃<span style=\"font-weight: bold\"> Output Shape           </span>┃<span style=\"font-weight: bold\">       Param # </span>┃\n",
       "┡━━━━━━━━━━━━━━━━━━━━━━━━━━━━━━━━━╇━━━━━━━━━━━━━━━━━━━━━━━━╇━━━━━━━━━━━━━━━┩\n",
       "│ conv2d_10 (<span style=\"color: #0087ff; text-decoration-color: #0087ff\">Conv2D</span>)              │ (<span style=\"color: #00d7ff; text-decoration-color: #00d7ff\">None</span>, <span style=\"color: #00af00; text-decoration-color: #00af00\">64</span>, <span style=\"color: #00af00; text-decoration-color: #00af00\">64</span>, <span style=\"color: #00af00; text-decoration-color: #00af00\">30</span>)     │           <span style=\"color: #00af00; text-decoration-color: #00af00\">840</span> │\n",
       "├─────────────────────────────────┼────────────────────────┼───────────────┤\n",
       "│ max_pooling2d_8 (<span style=\"color: #0087ff; text-decoration-color: #0087ff\">MaxPooling2D</span>)  │ (<span style=\"color: #00d7ff; text-decoration-color: #00d7ff\">None</span>, <span style=\"color: #00af00; text-decoration-color: #00af00\">32</span>, <span style=\"color: #00af00; text-decoration-color: #00af00\">32</span>, <span style=\"color: #00af00; text-decoration-color: #00af00\">30</span>)     │             <span style=\"color: #00af00; text-decoration-color: #00af00\">0</span> │\n",
       "├─────────────────────────────────┼────────────────────────┼───────────────┤\n",
       "│ conv2d_11 (<span style=\"color: #0087ff; text-decoration-color: #0087ff\">Conv2D</span>)              │ (<span style=\"color: #00d7ff; text-decoration-color: #00d7ff\">None</span>, <span style=\"color: #00af00; text-decoration-color: #00af00\">32</span>, <span style=\"color: #00af00; text-decoration-color: #00af00\">32</span>, <span style=\"color: #00af00; text-decoration-color: #00af00\">60</span>)     │        <span style=\"color: #00af00; text-decoration-color: #00af00\">16,260</span> │\n",
       "├─────────────────────────────────┼────────────────────────┼───────────────┤\n",
       "│ max_pooling2d_9 (<span style=\"color: #0087ff; text-decoration-color: #0087ff\">MaxPooling2D</span>)  │ (<span style=\"color: #00d7ff; text-decoration-color: #00d7ff\">None</span>, <span style=\"color: #00af00; text-decoration-color: #00af00\">16</span>, <span style=\"color: #00af00; text-decoration-color: #00af00\">16</span>, <span style=\"color: #00af00; text-decoration-color: #00af00\">60</span>)     │             <span style=\"color: #00af00; text-decoration-color: #00af00\">0</span> │\n",
       "├─────────────────────────────────┼────────────────────────┼───────────────┤\n",
       "│ flatten_4 (<span style=\"color: #0087ff; text-decoration-color: #0087ff\">Flatten</span>)             │ (<span style=\"color: #00d7ff; text-decoration-color: #00d7ff\">None</span>, <span style=\"color: #00af00; text-decoration-color: #00af00\">15360</span>)          │             <span style=\"color: #00af00; text-decoration-color: #00af00\">0</span> │\n",
       "├─────────────────────────────────┼────────────────────────┼───────────────┤\n",
       "│ dense_8 (<span style=\"color: #0087ff; text-decoration-color: #0087ff\">Dense</span>)                 │ (<span style=\"color: #00d7ff; text-decoration-color: #00d7ff\">None</span>, <span style=\"color: #00af00; text-decoration-color: #00af00\">128</span>)            │     <span style=\"color: #00af00; text-decoration-color: #00af00\">1,966,208</span> │\n",
       "├─────────────────────────────────┼────────────────────────┼───────────────┤\n",
       "│ dense_9 (<span style=\"color: #0087ff; text-decoration-color: #0087ff\">Dense</span>)                 │ (<span style=\"color: #00d7ff; text-decoration-color: #00d7ff\">None</span>, <span style=\"color: #00af00; text-decoration-color: #00af00\">1</span>)              │           <span style=\"color: #00af00; text-decoration-color: #00af00\">129</span> │\n",
       "└─────────────────────────────────┴────────────────────────┴───────────────┘\n",
       "</pre>\n"
      ],
      "text/plain": [
       "┏━━━━━━━━━━━━━━━━━━━━━━━━━━━━━━━━━┳━━━━━━━━━━━━━━━━━━━━━━━━┳━━━━━━━━━━━━━━━┓\n",
       "┃\u001b[1m \u001b[0m\u001b[1mLayer (type)                   \u001b[0m\u001b[1m \u001b[0m┃\u001b[1m \u001b[0m\u001b[1mOutput Shape          \u001b[0m\u001b[1m \u001b[0m┃\u001b[1m \u001b[0m\u001b[1m      Param #\u001b[0m\u001b[1m \u001b[0m┃\n",
       "┡━━━━━━━━━━━━━━━━━━━━━━━━━━━━━━━━━╇━━━━━━━━━━━━━━━━━━━━━━━━╇━━━━━━━━━━━━━━━┩\n",
       "│ conv2d_10 (\u001b[38;5;33mConv2D\u001b[0m)              │ (\u001b[38;5;45mNone\u001b[0m, \u001b[38;5;34m64\u001b[0m, \u001b[38;5;34m64\u001b[0m, \u001b[38;5;34m30\u001b[0m)     │           \u001b[38;5;34m840\u001b[0m │\n",
       "├─────────────────────────────────┼────────────────────────┼───────────────┤\n",
       "│ max_pooling2d_8 (\u001b[38;5;33mMaxPooling2D\u001b[0m)  │ (\u001b[38;5;45mNone\u001b[0m, \u001b[38;5;34m32\u001b[0m, \u001b[38;5;34m32\u001b[0m, \u001b[38;5;34m30\u001b[0m)     │             \u001b[38;5;34m0\u001b[0m │\n",
       "├─────────────────────────────────┼────────────────────────┼───────────────┤\n",
       "│ conv2d_11 (\u001b[38;5;33mConv2D\u001b[0m)              │ (\u001b[38;5;45mNone\u001b[0m, \u001b[38;5;34m32\u001b[0m, \u001b[38;5;34m32\u001b[0m, \u001b[38;5;34m60\u001b[0m)     │        \u001b[38;5;34m16,260\u001b[0m │\n",
       "├─────────────────────────────────┼────────────────────────┼───────────────┤\n",
       "│ max_pooling2d_9 (\u001b[38;5;33mMaxPooling2D\u001b[0m)  │ (\u001b[38;5;45mNone\u001b[0m, \u001b[38;5;34m16\u001b[0m, \u001b[38;5;34m16\u001b[0m, \u001b[38;5;34m60\u001b[0m)     │             \u001b[38;5;34m0\u001b[0m │\n",
       "├─────────────────────────────────┼────────────────────────┼───────────────┤\n",
       "│ flatten_4 (\u001b[38;5;33mFlatten\u001b[0m)             │ (\u001b[38;5;45mNone\u001b[0m, \u001b[38;5;34m15360\u001b[0m)          │             \u001b[38;5;34m0\u001b[0m │\n",
       "├─────────────────────────────────┼────────────────────────┼───────────────┤\n",
       "│ dense_8 (\u001b[38;5;33mDense\u001b[0m)                 │ (\u001b[38;5;45mNone\u001b[0m, \u001b[38;5;34m128\u001b[0m)            │     \u001b[38;5;34m1,966,208\u001b[0m │\n",
       "├─────────────────────────────────┼────────────────────────┼───────────────┤\n",
       "│ dense_9 (\u001b[38;5;33mDense\u001b[0m)                 │ (\u001b[38;5;45mNone\u001b[0m, \u001b[38;5;34m1\u001b[0m)              │           \u001b[38;5;34m129\u001b[0m │\n",
       "└─────────────────────────────────┴────────────────────────┴───────────────┘\n"
      ]
     },
     "metadata": {},
     "output_type": "display_data"
    },
    {
     "data": {
      "text/html": [
       "<pre style=\"white-space:pre;overflow-x:auto;line-height:normal;font-family:Menlo,'DejaVu Sans Mono',consolas,'Courier New',monospace\"><span style=\"font-weight: bold\"> Total params: </span><span style=\"color: #00af00; text-decoration-color: #00af00\">1,983,437</span> (7.57 MB)\n",
       "</pre>\n"
      ],
      "text/plain": [
       "\u001b[1m Total params: \u001b[0m\u001b[38;5;34m1,983,437\u001b[0m (7.57 MB)\n"
      ]
     },
     "metadata": {},
     "output_type": "display_data"
    },
    {
     "data": {
      "text/html": [
       "<pre style=\"white-space:pre;overflow-x:auto;line-height:normal;font-family:Menlo,'DejaVu Sans Mono',consolas,'Courier New',monospace\"><span style=\"font-weight: bold\"> Trainable params: </span><span style=\"color: #00af00; text-decoration-color: #00af00\">1,983,437</span> (7.57 MB)\n",
       "</pre>\n"
      ],
      "text/plain": [
       "\u001b[1m Trainable params: \u001b[0m\u001b[38;5;34m1,983,437\u001b[0m (7.57 MB)\n"
      ]
     },
     "metadata": {},
     "output_type": "display_data"
    },
    {
     "data": {
      "text/html": [
       "<pre style=\"white-space:pre;overflow-x:auto;line-height:normal;font-family:Menlo,'DejaVu Sans Mono',consolas,'Courier New',monospace\"><span style=\"font-weight: bold\"> Non-trainable params: </span><span style=\"color: #00af00; text-decoration-color: #00af00\">0</span> (0.00 B)\n",
       "</pre>\n"
      ],
      "text/plain": [
       "\u001b[1m Non-trainable params: \u001b[0m\u001b[38;5;34m0\u001b[0m (0.00 B)\n"
      ]
     },
     "metadata": {},
     "output_type": "display_data"
    }
   ],
   "source": [
    "clasificador.summary()"
   ]
  },
  {
   "cell_type": "code",
   "execution_count": 60,
   "id": "1ce4abfb-d789-4b65-9698-c87f335e2276",
   "metadata": {},
   "outputs": [],
   "source": [
    "clasificador.add(\n",
    "    Conv2D(\n",
    "        filters = 30,\n",
    "        kernel_size = (3, 3),\n",
    "        activation = \"relu\",\n",
    "        padding = \"same\"\n",
    "    )\n",
    ")"
   ]
  },
  {
   "cell_type": "code",
   "execution_count": 61,
   "id": "4a00a491-76b9-4602-a53e-6430364314f3",
   "metadata": {},
   "outputs": [],
   "source": [
    "clasificador.add(\n",
    "    MaxPooling2D(pool_size = (2,2))\n",
    ")"
   ]
  },
  {
   "cell_type": "code",
   "execution_count": 62,
   "id": "4600b009-5b6e-4ecb-bb1c-1c370320c3b8",
   "metadata": {},
   "outputs": [],
   "source": [
    "clasificador.add(\n",
    "    Conv2D(\n",
    "        filters = 60,\n",
    "        kernel_size = (3, 3),\n",
    "        activation = \"relu\",\n",
    "        padding = \"same\"\n",
    "    )\n",
    ")"
   ]
  },
  {
   "cell_type": "code",
   "execution_count": 63,
   "id": "ed892903-fab0-4497-aa4f-2fbf8eac1bdf",
   "metadata": {},
   "outputs": [],
   "source": [
    "clasificador.add(\n",
    "    MaxPooling2D(pool_size = (2,2))\n",
    ")"
   ]
  },
  {
   "cell_type": "code",
   "execution_count": 64,
   "id": "20b9c66e-bf9a-455b-9127-63562b0f4b5f",
   "metadata": {},
   "outputs": [],
   "source": [
    "clasificador.add(\n",
    "    Flatten()\n",
    ")"
   ]
  },
  {
   "cell_type": "code",
   "execution_count": 65,
   "id": "91615c84-d3d0-47ae-b3dc-d0e3b79fe895",
   "metadata": {},
   "outputs": [],
   "source": [
    "clasificador.add(\n",
    "    Dense(\n",
    "        units = 128,\n",
    "        activation = \"relu\"\n",
    "    )\n",
    ")"
   ]
  },
  {
   "cell_type": "code",
   "execution_count": 66,
   "id": "4144d3b2-615a-4687-b6ca-f1f2503e80f3",
   "metadata": {},
   "outputs": [],
   "source": [
    "clasificador.add(\n",
    "    Dense(\n",
    "        units = 1,\n",
    "        activation = \"sigmoid\"\n",
    "    )\n",
    ")"
   ]
  },
  {
   "cell_type": "code",
   "execution_count": 67,
   "id": "ddc4ffde-61db-4c6d-bca9-02bcbbf671fb",
   "metadata": {},
   "outputs": [],
   "source": [
    "clasificador.compile(\n",
    "    optimizer = \"adam\",\n",
    "    loss = \"binary_crossentropy\",\n",
    "    metrics = [\"accuracy\"]\n",
    ")"
   ]
  },
  {
   "cell_type": "markdown",
   "id": "c12ac09f-cbc9-4678-b5da-26bef04984ec",
   "metadata": {},
   "source": [
    "## Importar Imágenes"
   ]
  },
  {
   "cell_type": "code",
   "execution_count": 69,
   "id": "7e1d816d-0339-4d46-af6c-02fa452d12b4",
   "metadata": {},
   "outputs": [],
   "source": [
    "from tensorflow.keras.preprocessing.image import ImageDataGenerator"
   ]
  },
  {
   "cell_type": "code",
   "execution_count": 70,
   "id": "f7a3f273-b062-4d48-bea9-5d2e30f0d41b",
   "metadata": {},
   "outputs": [],
   "source": [
    "train_datagen = ImageDataGenerator(\n",
    "    rescale = 1/255,\n",
    "    shear_range = 0.2,\n",
    "    zoom_range = 0.2,\n",
    "    horizontal_flip = True\n",
    ")\n",
    "\n",
    "test_datagen = ImageDataGenerator(\n",
    "    rescale = 1/255\n",
    ")"
   ]
  },
  {
   "cell_type": "code",
   "execution_count": 72,
   "id": "9248c231-20eb-4141-99cd-604785641883",
   "metadata": {},
   "outputs": [
    {
     "name": "stdout",
     "output_type": "stream",
     "text": [
      "Found 8048 images belonging to 2 classes.\n"
     ]
    }
   ],
   "source": [
    "training_set = train_datagen.flow_from_directory(\n",
    "    \"training_set\",\n",
    "    target_size = (64, 64),\n",
    "    batch_size = 32,\n",
    "    class_mode = \"binary\"\n",
    ")"
   ]
  },
  {
   "cell_type": "code",
   "execution_count": 73,
   "id": "a28fcb07-b831-4096-a572-58dcbbbbb607",
   "metadata": {},
   "outputs": [
    {
     "name": "stdout",
     "output_type": "stream",
     "text": [
      "Found 2000 images belonging to 2 classes.\n"
     ]
    }
   ],
   "source": [
    "test_set = test_datagen.flow_from_directory(\n",
    "    \"test_set\",\n",
    "    target_size = (64, 64),\n",
    "    batch_size = 32,\n",
    "    class_mode = \"binary\"\n",
    ")"
   ]
  },
  {
   "cell_type": "code",
   "execution_count": 74,
   "id": "a6631fad-01a0-4aee-9d7a-9cb4054e8345",
   "metadata": {},
   "outputs": [],
   "source": [
    "images, labels = next(training_set)"
   ]
  },
  {
   "cell_type": "code",
   "execution_count": 76,
   "id": "fc66bbd0-bfaf-46fd-9d8e-784a05105db9",
   "metadata": {
    "collapsed": true,
    "jupyter": {
     "outputs_hidden": true
    }
   },
   "outputs": [
    {
     "data": {
      "text/plain": [
       "(array([[[[0.6722919 , 0.7190534 , 0.7543475 ],\n",
       "          [0.68733823, 0.7340998 , 0.7693939 ],\n",
       "          [0.6838816 , 0.75080353, 0.7568304 ],\n",
       "          ...,\n",
       "          [0.30446628, 0.29144347, 0.2803446 ],\n",
       "          [0.38199157, 0.38199157, 0.37414843],\n",
       "          [0.47058827, 0.47058827, 0.46274513]],\n",
       " \n",
       "         [[0.68916124, 0.724292  , 0.75550115],\n",
       "          [0.7021329 , 0.7372636 , 0.7684728 ],\n",
       "          [0.6946915 , 0.7554432 , 0.7740739 ],\n",
       "          ...,\n",
       "          [0.32118043, 0.3081716 , 0.29707626],\n",
       "          [0.37244943, 0.37244943, 0.3646063 ],\n",
       "          [0.4692266 , 0.4692266 , 0.46138346]],\n",
       " \n",
       "         [[0.5175806 , 0.5621526 , 0.6238751 ],\n",
       "          [0.5246035 , 0.5691755 , 0.63089794],\n",
       "          [0.53300196, 0.58749515, 0.66238683],\n",
       "          ...,\n",
       "          [0.32093543, 0.31452557, 0.30490595],\n",
       "          [0.3730573 , 0.3796423 , 0.3994562 ],\n",
       "          [0.4534967 , 0.4600817 , 0.4798956 ]],\n",
       " \n",
       "         ...,\n",
       " \n",
       "         [[0.30863413, 0.3489902 , 0.3385425 ],\n",
       "          [0.39491984, 0.40531296, 0.42910865],\n",
       "          [0.55474377, 0.54682964, 0.5554115 ],\n",
       "          ...,\n",
       "          [0.73631155, 0.730788  , 0.7267465 ],\n",
       "          [0.75537616, 0.7397488 , 0.7397488 ],\n",
       "          [0.7727551 , 0.7571277 , 0.7571277 ]],\n",
       " \n",
       "         [[0.35163426, 0.3964599 , 0.38981503],\n",
       "          [0.47247165, 0.48266366, 0.5128926 ],\n",
       "          [0.43687302, 0.41145563, 0.42659998],\n",
       "          ...,\n",
       "          [0.6443742 , 0.63604015, 0.629962  ],\n",
       "          [0.6366634 , 0.61313397, 0.61313397],\n",
       "          [0.65294087, 0.62941146, 0.62941146]],\n",
       " \n",
       "         [[0.39437485, 0.4020009 , 0.40814048],\n",
       "          [0.36436972, 0.38850033, 0.40713388],\n",
       "          [0.32210636, 0.30585575, 0.32550603],\n",
       "          ...,\n",
       "          [0.5816939 , 0.57334244, 0.56727123],\n",
       "          [0.5497929 , 0.5262635 , 0.5262635 ],\n",
       "          [0.57625353, 0.5527241 , 0.5527241 ]]],\n",
       " \n",
       " \n",
       "        [[[0.86666673, 0.8745099 , 0.92549026],\n",
       "          [0.90411484, 0.9262239 , 0.9522389 ],\n",
       "          [0.9397661 , 0.990086  , 0.98801523],\n",
       "          ...,\n",
       "          [0.85108286, 0.9120209 , 1.        ],\n",
       "          [0.8134495 , 0.8584664 , 0.9367354 ],\n",
       "          [0.7803922 , 0.81568635, 0.8745099 ]],\n",
       " \n",
       "         [[0.86666673, 0.8745099 , 0.92549026],\n",
       "          [0.90416855, 0.92629814, 0.9522773 ],\n",
       "          [0.93975335, 0.9900886 , 0.9880203 ],\n",
       "          ...,\n",
       "          [0.8510778 , 0.9120081 , 1.        ],\n",
       "          [0.813406  , 0.85841006, 0.93665344],\n",
       "          [0.7803922 , 0.81568635, 0.8745099 ]],\n",
       " \n",
       "         [[0.86666673, 0.8745099 , 0.92549026],\n",
       "          [0.90422237, 0.9263724 , 0.9523157 ],\n",
       "          [0.93974054, 0.9900912 , 0.9880254 ],\n",
       "          ...,\n",
       "          [0.85107267, 0.9119953 , 1.        ],\n",
       "          [0.8133625 , 0.85835373, 0.93657154],\n",
       "          [0.7803922 , 0.81568635, 0.8745099 ]],\n",
       " \n",
       "         ...,\n",
       " \n",
       "         [[0.4666667 , 0.34509805, 0.2627451 ],\n",
       "          [0.47054553, 0.3625529 , 0.27438167],\n",
       "          [0.49056497, 0.40848866, 0.32239857],\n",
       "          ...,\n",
       "          [0.51575786, 0.39026767, 0.29222846],\n",
       "          [0.46955374, 0.35259634, 0.26095676],\n",
       "          [0.45882356, 0.34901962, 0.2627451 ]],\n",
       " \n",
       "         [[0.4666667 , 0.34509805, 0.2627451 ],\n",
       "          [0.4705507 , 0.36257595, 0.27439705],\n",
       "          [0.49058545, 0.4085245 , 0.32244468],\n",
       "          ...,\n",
       "          [0.5157118 , 0.3902216 , 0.2921824 ],\n",
       "          [0.46953836, 0.35259125, 0.2609593 ],\n",
       "          [0.45882356, 0.34901962, 0.2627451 ]],\n",
       " \n",
       "         [[0.4666667 , 0.34509805, 0.2627451 ],\n",
       "          [0.4705558 , 0.362599  , 0.2744124 ],\n",
       "          [0.49060595, 0.40856037, 0.32249075],\n",
       "          ...,\n",
       "          [0.5156657 , 0.39017552, 0.29213628],\n",
       "          [0.469523  , 0.35258612, 0.26096186],\n",
       "          [0.45882356, 0.34901962, 0.2627451 ]]],\n",
       " \n",
       " \n",
       "        [[[0.3647059 , 0.28627452, 0.19215688],\n",
       "          [0.3647059 , 0.28627452, 0.19215688],\n",
       "          [0.3647059 , 0.28627452, 0.19215688],\n",
       "          ...,\n",
       "          [1.        , 1.        , 1.        ],\n",
       "          [1.        , 1.        , 1.        ],\n",
       "          [1.        , 1.        , 1.        ]],\n",
       " \n",
       "         [[0.3647059 , 0.28627452, 0.19215688],\n",
       "          [0.3647059 , 0.28627452, 0.19215688],\n",
       "          [0.3647059 , 0.28627452, 0.19215688],\n",
       "          ...,\n",
       "          [1.        , 1.        , 1.        ],\n",
       "          [1.        , 1.        , 1.        ],\n",
       "          [1.        , 1.        , 1.        ]],\n",
       " \n",
       "         [[0.38864678, 0.29761496, 0.18837674],\n",
       "          [0.38864678, 0.29761496, 0.18837674],\n",
       "          [0.38864678, 0.29761496, 0.18837674],\n",
       "          ...,\n",
       "          [1.        , 1.        , 1.        ],\n",
       "          [1.        , 1.        , 1.        ],\n",
       "          [1.        , 1.        , 1.        ]],\n",
       " \n",
       "         ...,\n",
       " \n",
       "         [[0.03809707, 0.06989391, 0.08208291],\n",
       "          [0.03809707, 0.06989391, 0.08208291],\n",
       "          [0.03809707, 0.06989391, 0.08208291],\n",
       "          ...,\n",
       "          [0.5350049 , 0.58892965, 0.8257667 ],\n",
       "          [0.5350049 , 0.58892965, 0.8257667 ],\n",
       "          [0.5350049 , 0.58892965, 0.8257667 ]],\n",
       " \n",
       "         [[0.04313726, 0.08627451, 0.10980393],\n",
       "          [0.04313726, 0.08627451, 0.10980393],\n",
       "          [0.04313726, 0.08627451, 0.10980393],\n",
       "          ...,\n",
       "          [0.50980395, 0.57254905, 0.81568635],\n",
       "          [0.50980395, 0.57254905, 0.81568635],\n",
       "          [0.50980395, 0.57254905, 0.81568635]],\n",
       " \n",
       "         [[0.04313726, 0.08627451, 0.10980393],\n",
       "          [0.04313726, 0.08627451, 0.10980393],\n",
       "          [0.04313726, 0.08627451, 0.10980393],\n",
       "          ...,\n",
       "          [0.50980395, 0.57254905, 0.81568635],\n",
       "          [0.50980395, 0.57254905, 0.81568635],\n",
       "          [0.50980395, 0.57254905, 0.81568635]]],\n",
       " \n",
       " \n",
       "        ...,\n",
       " \n",
       " \n",
       "        [[[0.39458063, 0.40805978, 0.42566657],\n",
       "          [0.340987  , 0.35687366, 0.36085472],\n",
       "          [0.30754206, 0.32587096, 0.31496856],\n",
       "          ...,\n",
       "          [0.53986955, 0.51583153, 0.51245916],\n",
       "          [0.49350515, 0.4731497 , 0.46363676],\n",
       "          [0.37094247, 0.35229543, 0.32747486]],\n",
       " \n",
       "         [[0.3772743 , 0.3689402 , 0.38459492],\n",
       "          [0.30838925, 0.30405742, 0.2907716 ],\n",
       "          [0.28401253, 0.2819624 , 0.24809897],\n",
       "          ...,\n",
       "          [0.42924824, 0.40256137, 0.40504098],\n",
       "          [0.44639906, 0.41942066, 0.4103269 ],\n",
       "          [0.49619037, 0.4724566 , 0.44167694]],\n",
       " \n",
       "         [[0.46197742, 0.43910435, 0.4488876 ],\n",
       "          [0.39386845, 0.37520084, 0.35059562],\n",
       "          [0.37410316, 0.35737047, 0.31094095],\n",
       "          ...,\n",
       "          [0.4032092 , 0.37557548, 0.37251297],\n",
       "          [0.49274945, 0.46279833, 0.44786486],\n",
       "          [0.5555401 , 0.52753055, 0.50008136]],\n",
       " \n",
       "         ...,\n",
       " \n",
       "         [[0.5367927 , 0.5233538 , 0.5018807 ],\n",
       "          [0.4724867 , 0.44122788, 0.4197948 ],\n",
       "          [0.42806628, 0.39812234, 0.3793649 ],\n",
       "          ...,\n",
       "          [0.50413436, 0.5005145 , 0.48996684],\n",
       "          [0.4660082 , 0.46208662, 0.45424345],\n",
       "          [0.31876987, 0.3148483 , 0.30700517]],\n",
       " \n",
       "         [[0.65060693, 0.6530458 , 0.6149563 ],\n",
       "          [0.59878165, 0.58446217, 0.5233515 ],\n",
       "          [0.51753926, 0.501137  , 0.43940046],\n",
       "          ...,\n",
       "          [0.40526545, 0.41265813, 0.40700385],\n",
       "          [0.40471518, 0.41074714, 0.40069377],\n",
       "          [0.23846497, 0.23884505, 0.22642018]],\n",
       " \n",
       "         [[0.5840631 , 0.60693246, 0.57317245],\n",
       "          [0.66954225, 0.6817728 , 0.6149438 ],\n",
       "          [0.61123717, 0.62277985, 0.5475091 ],\n",
       "          ...,\n",
       "          [0.38972473, 0.4099224 , 0.40844768],\n",
       "          [0.44154772, 0.4570342 , 0.44251323],\n",
       "          [0.22214547, 0.22671644, 0.20431758]]],\n",
       " \n",
       " \n",
       "        [[[0.09803922, 0.32941177, 0.40000004],\n",
       "          [0.09803922, 0.32941177, 0.40000004],\n",
       "          [0.09803922, 0.32941177, 0.40000004],\n",
       "          ...,\n",
       "          [0.10588236, 0.3019608 , 0.3372549 ],\n",
       "          [0.10588236, 0.3019608 , 0.3372549 ],\n",
       "          [0.10588236, 0.3019608 , 0.3372549 ]],\n",
       " \n",
       "         [[0.09803922, 0.32941177, 0.40000004],\n",
       "          [0.09803922, 0.32941177, 0.40000004],\n",
       "          [0.09803922, 0.32941177, 0.40000004],\n",
       "          ...,\n",
       "          [0.10588236, 0.3019608 , 0.3372549 ],\n",
       "          [0.10588236, 0.3019608 , 0.3372549 ],\n",
       "          [0.10588236, 0.3019608 , 0.3372549 ]],\n",
       " \n",
       "         [[0.09803922, 0.32941177, 0.40000004],\n",
       "          [0.09803922, 0.32941177, 0.40000004],\n",
       "          [0.09803922, 0.32941177, 0.40000004],\n",
       "          ...,\n",
       "          [0.10588236, 0.3019608 , 0.3372549 ],\n",
       "          [0.10588236, 0.3019608 , 0.3372549 ],\n",
       "          [0.10588236, 0.3019608 , 0.3372549 ]],\n",
       " \n",
       "         ...,\n",
       " \n",
       "         [[0.05882353, 0.32156864, 0.38823533],\n",
       "          [0.05882353, 0.32156864, 0.38823533],\n",
       "          [0.05882353, 0.32156864, 0.38823533],\n",
       "          ...,\n",
       "          [0.04313726, 0.01960784, 0.01960784],\n",
       "          [0.04313726, 0.01960784, 0.01960784],\n",
       "          [0.04313726, 0.01960784, 0.01960784]],\n",
       " \n",
       "         [[0.05882353, 0.32156864, 0.38823533],\n",
       "          [0.05882353, 0.32156864, 0.38823533],\n",
       "          [0.05882353, 0.32156864, 0.38823533],\n",
       "          ...,\n",
       "          [0.04313726, 0.01960784, 0.01960784],\n",
       "          [0.04313726, 0.01960784, 0.01960784],\n",
       "          [0.04313726, 0.01960784, 0.01960784]],\n",
       " \n",
       "         [[0.05882353, 0.32156864, 0.38823533],\n",
       "          [0.05882353, 0.32156864, 0.38823533],\n",
       "          [0.05882353, 0.32156864, 0.38823533],\n",
       "          ...,\n",
       "          [0.04313726, 0.01960784, 0.01960784],\n",
       "          [0.04313726, 0.01960784, 0.01960784],\n",
       "          [0.04313726, 0.01960784, 0.01960784]]],\n",
       " \n",
       " \n",
       "        [[[0.18373175, 0.17410982, 0.132728  ],\n",
       "          [0.18145664, 0.18398918, 0.14439784],\n",
       "          [0.15722005, 0.14822939, 0.14072166],\n",
       "          ...,\n",
       "          [0.0962415 , 0.17574544, 0.21248473],\n",
       "          [0.0213713 , 0.06681724, 0.12874901],\n",
       "          [0.04936856, 0.1142632 , 0.19318494]],\n",
       " \n",
       "         [[0.408074  , 0.40438932, 0.34985512],\n",
       "          [0.43572155, 0.4448687 , 0.388872  ],\n",
       "          [0.44877204, 0.44710946, 0.4186726 ],\n",
       "          ...,\n",
       "          [0.11781171, 0.14012876, 0.14195703],\n",
       "          [0.0306879 , 0.04955013, 0.08018638],\n",
       "          [0.02572029, 0.07535628, 0.12934755]],\n",
       " \n",
       "         [[0.6160178 , 0.63354087, 0.5499583 ],\n",
       "          [0.635738  , 0.6666172 , 0.57911503],\n",
       "          [0.6501569 , 0.669051  , 0.60633576],\n",
       "          ...,\n",
       "          [0.29595953, 0.28016555, 0.25848532],\n",
       "          [0.14197461, 0.14711645, 0.15295386],\n",
       "          [0.06147628, 0.10467284, 0.13940564]],\n",
       " \n",
       "         ...,\n",
       " \n",
       "         [[0.31989852, 0.19901925, 0.26952502],\n",
       "          [0.3441354 , 0.22321855, 0.295832  ],\n",
       "          [0.3300983 , 0.20786816, 0.28618547],\n",
       "          ...,\n",
       "          [0.8385943 , 0.41000873, 0.6574568 ],\n",
       "          [0.80838007, 0.39643925, 0.64087856],\n",
       "          [0.8095772 , 0.39429298, 0.6464983 ]],\n",
       " \n",
       "         [[0.36171064, 0.23136206, 0.30143592],\n",
       "          [0.3855072 , 0.2507671 , 0.32165405],\n",
       "          [0.34326708, 0.20601217, 0.28785077],\n",
       "          ...,\n",
       "          [0.81344336, 0.40498027, 0.6468558 ],\n",
       "          [0.8278582 , 0.39060116, 0.6409287 ],\n",
       "          [0.82747054, 0.37694794, 0.6306507 ]],\n",
       " \n",
       "         [[0.33716163, 0.20059909, 0.27355382],\n",
       "          [0.34062672, 0.20588115, 0.2767845 ],\n",
       "          [0.3568548 , 0.21959992, 0.3014604 ],\n",
       "          ...,\n",
       "          [0.8521313 , 0.41481018, 0.6659752 ],\n",
       "          [0.8320808 , 0.39203662, 0.6428021 ],\n",
       "          [0.821525  , 0.36112297, 0.6175644 ]]]], dtype=float32),\n",
       " array([1., 1., 0., 0., 0., 0., 0., 1., 0., 1., 1., 1., 0., 1., 1., 0., 1.,\n",
       "        0., 0., 0., 0., 1., 1., 1., 1., 0., 1., 1., 1., 1., 0., 0.],\n",
       "       dtype=float32))"
      ]
     },
     "execution_count": 76,
     "metadata": {},
     "output_type": "execute_result"
    }
   ],
   "source": [
    "next(training_set)"
   ]
  },
  {
   "cell_type": "code",
   "execution_count": 75,
   "id": "57cd8d7a-b015-4824-a044-918f901eadd5",
   "metadata": {},
   "outputs": [
    {
     "data": {
      "text/plain": [
       "(64, 64, 3)"
      ]
     },
     "execution_count": 75,
     "metadata": {},
     "output_type": "execute_result"
    }
   ],
   "source": [
    "images[0].shape"
   ]
  },
  {
   "cell_type": "code",
   "execution_count": 18,
   "id": "0eaac496-9609-4636-b97e-444e39ceccc1",
   "metadata": {
    "collapsed": true,
    "jupyter": {
     "outputs_hidden": true
    }
   },
   "outputs": [
    {
     "data": {
      "text/plain": [
       "array([[[0.38884658, 0.25017905, 0.10696889],\n",
       "        [0.37119898, 0.24482135, 0.12056401],\n",
       "        [0.369519  , 0.2468041 , 0.12963982],\n",
       "        ...,\n",
       "        [0.17077707, 0.15116923, 0.13940452],\n",
       "        [0.1666583 , 0.14705046, 0.13528575],\n",
       "        [0.16151838, 0.14191054, 0.13014582]],\n",
       "\n",
       "       [[0.40783468, 0.27827764, 0.12669206],\n",
       "        [0.41815692, 0.28653935, 0.1385495 ],\n",
       "        [0.4349969 , 0.3028118 , 0.15585025],\n",
       "        ...,\n",
       "        [0.17995875, 0.1603509 , 0.1485862 ],\n",
       "        [0.17640592, 0.15679808, 0.14503337],\n",
       "        [0.15885071, 0.13924287, 0.12747817]],\n",
       "\n",
       "       [[0.41811162, 0.28171268, 0.13291483],\n",
       "        [0.4277505 , 0.28639922, 0.12793623],\n",
       "        [0.42838156, 0.29124653, 0.12830743],\n",
       "        ...,\n",
       "        [0.18274239, 0.16404629, 0.14498751],\n",
       "        [0.1768477 , 0.15723985, 0.14547515],\n",
       "        [0.16127238, 0.14166453, 0.12989983]],\n",
       "\n",
       "       ...,\n",
       "\n",
       "       [[0.7432332 , 0.6385155 , 0.5517268 ],\n",
       "        [0.739679  , 0.637533  , 0.5475658 ],\n",
       "        [0.7471458 , 0.64518493, 0.55498886],\n",
       "        ...,\n",
       "        [0.8759555 , 0.7707823 , 0.6794185 ],\n",
       "        [0.8791926 , 0.7693886 , 0.6831141 ],\n",
       "        [0.8793772 , 0.7695733 , 0.6832987 ]],\n",
       "\n",
       "       [[0.7486595 , 0.64527637, 0.5579249 ],\n",
       "        [0.74510527, 0.64068145, 0.55541134],\n",
       "        [0.76237196, 0.6578762 , 0.5727499 ],\n",
       "        ...,\n",
       "        [0.87724054, 0.7701342 , 0.6799757 ],\n",
       "        [0.87360543, 0.76633644, 0.6876667 ],\n",
       "        [0.8790916 , 0.7714925 , 0.6918324 ]],\n",
       "\n",
       "       [[0.7528091 , 0.65071625, 0.56078434],\n",
       "        [0.7492549 , 0.6436077 , 0.56078434],\n",
       "        [0.7368156 , 0.63093317, 0.5485802 ],\n",
       "        ...,\n",
       "        [0.8787599 , 0.77092636, 0.68022794],\n",
       "        [0.872785  , 0.76913494, 0.6856959 ],\n",
       "        [0.8785837 , 0.77411604, 0.6903003 ]]], dtype=float32)"
      ]
     },
     "execution_count": 18,
     "metadata": {},
     "output_type": "execute_result"
    }
   ],
   "source": [
    "images[0]"
   ]
  },
  {
   "cell_type": "code",
   "execution_count": 77,
   "id": "6535f639-8930-4f0a-b293-2acec159e09c",
   "metadata": {},
   "outputs": [
    {
     "data": {
      "text/plain": [
       "1.0"
      ]
     },
     "execution_count": 77,
     "metadata": {},
     "output_type": "execute_result"
    }
   ],
   "source": [
    "labels[1]"
   ]
  },
  {
   "cell_type": "code",
   "execution_count": 78,
   "id": "35a7b340-ee97-4cb7-af18-0f41e58d2adf",
   "metadata": {},
   "outputs": [
    {
     "data": {
      "image/png": "[encoded data removed]",
      "text/plain": [
       "<Figure size 300x300 with 1 Axes>"
      ]
     },
     "metadata": {},
     "output_type": "display_data"
    }
   ],
   "source": [
    "plt.figure(figsize = (3,3))\n",
    "plt.imshow(images[1])\n",
    "plt.show()"
   ]
  },
  {
   "cell_type": "code",
   "execution_count": 79,
   "id": "010f16cc-69b5-4360-bbcd-551527998b37",
   "metadata": {},
   "outputs": [
    {
     "data": {
      "text/plain": [
       "{'cats': 0, 'dogs': 1}"
      ]
     },
     "execution_count": 79,
     "metadata": {},
     "output_type": "execute_result"
    }
   ],
   "source": [
    "training_set.class_indices"
   ]
  },
  {
   "cell_type": "markdown",
   "id": "0d7b45a0-59a7-4d01-9f86-a5125bb5e2a4",
   "metadata": {},
   "source": [
    "## Entrenar al modelo"
   ]
  },
  {
   "cell_type": "code",
   "execution_count": 23,
   "id": "9b92ec50-d531-4c2e-a5dd-74b264c9468e",
   "metadata": {},
   "outputs": [
    {
     "data": {
      "text/plain": [
       "251.5"
      ]
     },
     "execution_count": 23,
     "metadata": {},
     "output_type": "execute_result"
    }
   ],
   "source": [
    "8048 / 32"
   ]
  },
  {
   "cell_type": "code",
   "execution_count": 24,
   "id": "ba0b3d5a-cf37-4c01-86a7-39fe764a53a5",
   "metadata": {},
   "outputs": [
    {
     "data": {
      "text/plain": [
       "62.5"
      ]
     },
     "execution_count": 24,
     "metadata": {},
     "output_type": "execute_result"
    }
   ],
   "source": [
    "2000 / 32"
   ]
  },
  {
   "cell_type": "code",
   "execution_count": 80,
   "id": "5294cf6c-d00c-4d43-b968-32dd16c22c57",
   "metadata": {},
   "outputs": [
    {
     "name": "stderr",
     "output_type": "stream",
     "text": [
      "C:\\Users\\ivan_\\anaconda3\\Lib\\site-packages\\keras\\src\\trainers\\data_adapters\\py_dataset_adapter.py:121: UserWarning: Your `PyDataset` class should call `super().__init__(**kwargs)` in its constructor. `**kwargs` can include `workers`, `use_multiprocessing`, `max_queue_size`. Do not pass these arguments to `fit()`, as they will be ignored.\n",
      "  self._warn_if_super_not_called()\n"
     ]
    },
    {
     "name": "stdout",
     "output_type": "stream",
     "text": [
      "Epoch 1/25\n",
      "\u001b[1m251/251\u001b[0m \u001b[32m━━━━━━━━━━━━━━━━━━━━\u001b[0m\u001b[37m\u001b[0m \u001b[1m438s\u001b[0m 2s/step - accuracy: 0.5109 - loss: 0.7369 - val_accuracy: 0.6240 - val_loss: 0.6357\n",
      "Epoch 2/25\n",
      "\u001b[1m  1/251\u001b[0m \u001b[37m━━━━━━━━━━━━━━━━━━━━\u001b[0m \u001b[1m28s\u001b[0m 112ms/step - accuracy: 0.5938 - loss: 0.6216"
     ]
    },
    {
     "name": "stderr",
     "output_type": "stream",
     "text": [
      "C:\\Users\\ivan_\\anaconda3\\Lib\\site-packages\\keras\\src\\trainers\\epoch_iterator.py:107: UserWarning: Your input ran out of data; interrupting training. Make sure that your dataset or generator can generate at least `steps_per_epoch * epochs` batches. You may need to use the `.repeat()` function when building your dataset.\n",
      "  self._interrupted_warning()\n"
     ]
    },
    {
     "name": "stdout",
     "output_type": "stream",
     "text": [
      "\u001b[1m251/251\u001b[0m \u001b[32m━━━━━━━━━━━━━━━━━━━━\u001b[0m\u001b[37m\u001b[0m \u001b[1m7s\u001b[0m 29ms/step - accuracy: 0.5938 - loss: 0.6216 - val_accuracy: 0.6507 - val_loss: 0.6244\n",
      "Epoch 3/25\n",
      "\u001b[1m251/251\u001b[0m \u001b[32m━━━━━━━━━━━━━━━━━━━━\u001b[0m\u001b[37m\u001b[0m \u001b[1m68s\u001b[0m 273ms/step - accuracy: 0.6758 - loss: 0.6093 - val_accuracy: 0.7021 - val_loss: 0.5818\n",
      "Epoch 4/25\n",
      "\u001b[1m251/251\u001b[0m \u001b[32m━━━━━━━━━━━━━━━━━━━━\u001b[0m\u001b[37m\u001b[0m \u001b[1m7s\u001b[0m 27ms/step - accuracy: 0.5938 - loss: 0.6844 - val_accuracy: 0.6935 - val_loss: 0.5851\n",
      "Epoch 5/25\n",
      "\u001b[1m251/251\u001b[0m \u001b[32m━━━━━━━━━━━━━━━━━━━━\u001b[0m\u001b[37m\u001b[0m \u001b[1m58s\u001b[0m 233ms/step - accuracy: 0.7096 - loss: 0.5737 - val_accuracy: 0.7288 - val_loss: 0.5548\n",
      "Epoch 6/25\n",
      "\u001b[1m251/251\u001b[0m \u001b[32m━━━━━━━━━━━━━━━━━━━━\u001b[0m\u001b[37m\u001b[0m \u001b[1m6s\u001b[0m 25ms/step - accuracy: 0.7188 - loss: 0.5554 - val_accuracy: 0.7193 - val_loss: 0.5593\n",
      "Epoch 7/25\n",
      "\u001b[1m251/251\u001b[0m \u001b[32m━━━━━━━━━━━━━━━━━━━━\u001b[0m\u001b[37m\u001b[0m \u001b[1m58s\u001b[0m 233ms/step - accuracy: 0.7158 - loss: 0.5486 - val_accuracy: 0.7193 - val_loss: 0.5442\n",
      "Epoch 8/25\n",
      "\u001b[1m251/251\u001b[0m \u001b[32m━━━━━━━━━━━━━━━━━━━━\u001b[0m\u001b[37m\u001b[0m \u001b[1m6s\u001b[0m 25ms/step - accuracy: 0.7500 - loss: 0.5471 - val_accuracy: 0.7233 - val_loss: 0.5333\n",
      "Epoch 9/25\n",
      "\u001b[1m251/251\u001b[0m \u001b[32m━━━━━━━━━━━━━━━━━━━━\u001b[0m\u001b[37m\u001b[0m \u001b[1m60s\u001b[0m 238ms/step - accuracy: 0.7378 - loss: 0.5231 - val_accuracy: 0.7349 - val_loss: 0.5485\n",
      "Epoch 10/25\n",
      "\u001b[1m251/251\u001b[0m \u001b[32m━━━━━━━━━━━━━━━━━━━━\u001b[0m\u001b[37m\u001b[0m \u001b[1m6s\u001b[0m 24ms/step - accuracy: 0.6875 - loss: 0.6222 - val_accuracy: 0.7419 - val_loss: 0.5380\n",
      "Epoch 11/25\n",
      "\u001b[1m251/251\u001b[0m \u001b[32m━━━━━━━━━━━━━━━━━━━━\u001b[0m\u001b[37m\u001b[0m \u001b[1m59s\u001b[0m 235ms/step - accuracy: 0.7583 - loss: 0.5079 - val_accuracy: 0.7298 - val_loss: 0.5700\n",
      "Epoch 12/25\n",
      "\u001b[1m251/251\u001b[0m \u001b[32m━━━━━━━━━━━━━━━━━━━━\u001b[0m\u001b[37m\u001b[0m \u001b[1m6s\u001b[0m 24ms/step - accuracy: 0.6875 - loss: 0.5427 - val_accuracy: 0.7112 - val_loss: 0.6087\n",
      "Epoch 13/25\n",
      "\u001b[1m251/251\u001b[0m \u001b[32m━━━━━━━━━━━━━━━━━━━━\u001b[0m\u001b[37m\u001b[0m \u001b[1m59s\u001b[0m 233ms/step - accuracy: 0.7538 - loss: 0.4959 - val_accuracy: 0.7707 - val_loss: 0.4796\n",
      "Epoch 14/25\n",
      "\u001b[1m251/251\u001b[0m \u001b[32m━━━━━━━━━━━━━━━━━━━━\u001b[0m\u001b[37m\u001b[0m \u001b[1m6s\u001b[0m 24ms/step - accuracy: 0.8438 - loss: 0.3804 - val_accuracy: 0.7792 - val_loss: 0.4765\n",
      "Epoch 15/25\n",
      "\u001b[1m251/251\u001b[0m \u001b[32m━━━━━━━━━━━━━━━━━━━━\u001b[0m\u001b[37m\u001b[0m \u001b[1m59s\u001b[0m 234ms/step - accuracy: 0.7707 - loss: 0.4616 - val_accuracy: 0.7843 - val_loss: 0.4879\n",
      "Epoch 16/25\n",
      "\u001b[1m251/251\u001b[0m \u001b[32m━━━━━━━━━━━━━━━━━━━━\u001b[0m\u001b[37m\u001b[0m \u001b[1m10s\u001b[0m 41ms/step - accuracy: 0.9062 - loss: 0.2344 - val_accuracy: 0.7838 - val_loss: 0.4730\n",
      "Epoch 17/25\n",
      "\u001b[1m251/251\u001b[0m \u001b[32m━━━━━━━━━━━━━━━━━━━━\u001b[0m\u001b[37m\u001b[0m \u001b[1m59s\u001b[0m 233ms/step - accuracy: 0.7878 - loss: 0.4563 - val_accuracy: 0.7697 - val_loss: 0.4880\n",
      "Epoch 18/25\n",
      "\u001b[1m251/251\u001b[0m \u001b[32m━━━━━━━━━━━━━━━━━━━━\u001b[0m\u001b[37m\u001b[0m \u001b[1m7s\u001b[0m 27ms/step - accuracy: 0.7500 - loss: 0.4466 - val_accuracy: 0.7616 - val_loss: 0.5032\n",
      "Epoch 19/25\n",
      "\u001b[1m251/251\u001b[0m \u001b[32m━━━━━━━━━━━━━━━━━━━━\u001b[0m\u001b[37m\u001b[0m \u001b[1m58s\u001b[0m 231ms/step - accuracy: 0.7862 - loss: 0.4485 - val_accuracy: 0.7939 - val_loss: 0.4568\n",
      "Epoch 20/25\n",
      "\u001b[1m251/251\u001b[0m \u001b[32m━━━━━━━━━━━━━━━━━━━━\u001b[0m\u001b[37m\u001b[0m \u001b[1m7s\u001b[0m 28ms/step - accuracy: 0.8438 - loss: 0.3729 - val_accuracy: 0.7923 - val_loss: 0.4592\n",
      "Epoch 21/25\n",
      "\u001b[1m251/251\u001b[0m \u001b[32m━━━━━━━━━━━━━━━━━━━━\u001b[0m\u001b[37m\u001b[0m \u001b[1m65s\u001b[0m 257ms/step - accuracy: 0.7932 - loss: 0.4436 - val_accuracy: 0.7883 - val_loss: 0.4779\n",
      "Epoch 22/25\n",
      "\u001b[1m251/251\u001b[0m \u001b[32m━━━━━━━━━━━━━━━━━━━━\u001b[0m\u001b[37m\u001b[0m \u001b[1m8s\u001b[0m 30ms/step - accuracy: 0.6875 - loss: 0.5765 - val_accuracy: 0.7898 - val_loss: 0.4662\n",
      "Epoch 23/25\n",
      "\u001b[1m251/251\u001b[0m \u001b[32m━━━━━━━━━━━━━━━━━━━━\u001b[0m\u001b[37m\u001b[0m \u001b[1m62s\u001b[0m 245ms/step - accuracy: 0.8013 - loss: 0.4219 - val_accuracy: 0.7848 - val_loss: 0.4613\n",
      "Epoch 24/25\n",
      "\u001b[1m251/251\u001b[0m \u001b[32m━━━━━━━━━━━━━━━━━━━━\u001b[0m\u001b[37m\u001b[0m \u001b[1m7s\u001b[0m 28ms/step - accuracy: 0.8438 - loss: 0.3703 - val_accuracy: 0.7838 - val_loss: 0.4652\n",
      "Epoch 25/25\n",
      "\u001b[1m251/251\u001b[0m \u001b[32m━━━━━━━━━━━━━━━━━━━━\u001b[0m\u001b[37m\u001b[0m \u001b[1m60s\u001b[0m 239ms/step - accuracy: 0.8163 - loss: 0.4027 - val_accuracy: 0.7898 - val_loss: 0.4581\n"
     ]
    },
    {
     "data": {
      "text/plain": [
       "<keras.src.callbacks.history.History at 0x1bf5c2e6990>"
      ]
     },
     "execution_count": 80,
     "metadata": {},
     "output_type": "execute_result"
    }
   ],
   "source": [
    "clasificador.fit(\n",
    "    training_set, #X_train (Fotos), y_train (cat=0;dog=1)\n",
    "    steps_per_epoch = 251,\n",
    "    epochs = 25, # numero de iteraciones\n",
    "    validation_data = test_set, # le paso X_test e y_test para que no sobreajuste\n",
    "    validation_steps = 62 \n",
    ")"
   ]
  },
  {
   "cell_type": "markdown",
   "id": "d2acfd4c-78df-422d-8952-63a07c5e13e7",
   "metadata": {},
   "source": [
    "## Validación de modelo"
   ]
  },
  {
   "cell_type": "code",
   "execution_count": 81,
   "id": "b4532c5b-70e1-4c4a-b812-e649e788472d",
   "metadata": {},
   "outputs": [],
   "source": [
    "from tensorflow.keras.preprocessing import image"
   ]
  },
  {
   "cell_type": "code",
   "execution_count": 125,
   "id": "28ea49ae-1b9b-42ee-a865-9f934907f9c9",
   "metadata": {},
   "outputs": [
    {
     "data": {
      "image/jpeg": "[encoded data removed]",
      "image/png": "[encoded data removed]",
      "text/plain": [
       "<PIL.Image.Image image mode=RGB size=64x64>"
      ]
     },
     "execution_count": 125,
     "metadata": {},
     "output_type": "execute_result"
    }
   ],
   "source": [
    "test_image = image.load_img(\"perro.jpg\", target_size = (64,64))\n",
    "test_image"
   ]
  },
  {
   "cell_type": "code",
   "execution_count": 126,
   "id": "cc355c78-e61a-4d5b-8731-9f4645afce5f",
   "metadata": {},
   "outputs": [],
   "source": [
    "test_image = image.img_to_array(test_image)"
   ]
  },
  {
   "cell_type": "code",
   "execution_count": 127,
   "id": "ba538f25-56da-4f7a-81e2-cb563c078461",
   "metadata": {},
   "outputs": [
    {
     "data": {
      "text/plain": [
       "(64, 64, 3)"
      ]
     },
     "execution_count": 127,
     "metadata": {},
     "output_type": "execute_result"
    }
   ],
   "source": [
    "test_image.shape"
   ]
  },
  {
   "cell_type": "code",
   "execution_count": 128,
   "id": "c53a8574-fa7a-4952-b042-766666b0eaad",
   "metadata": {},
   "outputs": [
    {
     "data": {
      "text/plain": [
       "(1, 64, 64, 3)"
      ]
     },
     "execution_count": 128,
     "metadata": {},
     "output_type": "execute_result"
    }
   ],
   "source": [
    "test_image = np.expand_dims(test_image, axis=0)\n",
    "test_image.shape"
   ]
  },
  {
   "cell_type": "code",
   "execution_count": 129,
   "id": "d897f0f6-15e6-4d58-b3e1-cfbfaba26a5b",
   "metadata": {},
   "outputs": [],
   "source": [
    "test_image = test_image / 255"
   ]
  },
  {
   "cell_type": "code",
   "execution_count": 133,
   "id": "30c5e845-8975-4f59-b9b5-9e254c74805a",
   "metadata": {},
   "outputs": [
    {
     "name": "stdout",
     "output_type": "stream",
     "text": [
      "\u001b[1m1/1\u001b[0m \u001b[32m━━━━━━━━━━━━━━━━━━━━\u001b[0m\u001b[37m\u001b[0m \u001b[1m0s\u001b[0m 241ms/step\n"
     ]
    },
    {
     "data": {
      "text/plain": [
       "array([[0.98752475]], dtype=float32)"
      ]
     },
     "execution_count": 133,
     "metadata": {},
     "output_type": "execute_result"
    }
   ],
   "source": [
    "resultado = clasificador.predict(test_image)\n",
    "resultado"
   ]
  },
  {
   "cell_type": "code",
   "execution_count": 131,
   "id": "f56b791e-38d1-43a7-b50a-1e9d14880046",
   "metadata": {},
   "outputs": [
    {
     "data": {
      "text/plain": [
       "{'cats': 0, 'dogs': 1}"
      ]
     },
     "execution_count": 131,
     "metadata": {},
     "output_type": "execute_result"
    }
   ],
   "source": [
    "training_set.class_indices"
   ]
  },
  {
   "cell_type": "code",
   "execution_count": 132,
   "id": "5c5e2dc6-4eb3-435b-b974-d8c0779fc89e",
   "metadata": {},
   "outputs": [
    {
     "name": "stdout",
     "output_type": "stream",
     "text": [
      "Esto es un perro\n"
     ]
    }
   ],
   "source": [
    "if resultado[0][0] > 0.5:\n",
    "    print(\"Esto es un perro\")\n",
    "else:\n",
    "    print(\"Esto es un gato\")"
   ]
  }
 ],
 "metadata": {
  "kernelspec": {
   "display_name": "Python 3 (ipykernel)",
   "language": "python",
   "name": "python3"
  },
  "language_info": {
   "codemirror_mode": {
    "name": "ipython",
    "version": 3
   },
   "file_extension": ".py",
   "mimetype": "text/x-python",
   "name": "python",
   "nbconvert_exporter": "python",
   "pygments_lexer": "ipython3",
   "version": "3.12.7"
  }
 },
 "nbformat": 4,
 "nbformat_minor": 5
}
